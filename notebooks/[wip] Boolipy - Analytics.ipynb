{
 "cells": [
  {
   "cell_type": "code",
   "execution_count": null,
   "metadata": {},
   "outputs": [],
   "source": [
    "%matplotlib inline\n",
    "\n",
    "import sys\n",
    "sys.path.append('../')\n",
    "\n",
    "import matplotlib\n",
    "import matplotlib.pyplot as plt\n",
    "matplotlib.style.use('seaborn-white')\n",
    "import pandas as pd\n",
    "import seaborn as sns\n",
    "\n",
    "import boolipy\n",
    "api = boolipy.api.Api()"
   ]
  },
  {
   "cell_type": "markdown",
   "metadata": {},
   "source": [
    "# Global variables"
   ]
  },
  {
   "cell_type": "code",
   "execution_count": null,
   "metadata": {},
   "outputs": [],
   "source": [
    "FRIDHEMSPLAN = [59.334438, 18.029522]\n",
    "CENTER = \",\".join([str(x) for x in FRIDHEMSPLAN])\n",
    "DIM = \"400,500\"\n",
    "LIMIT = 1000\n",
    "ENDPOINT = \"sold\"\n",
    "\n",
    "parameters = {\"center\": CENTER, \"dim\": DIM, \"limit\": LIMIT}"
   ]
  },
  {
   "cell_type": "code",
   "execution_count": 3,
   "metadata": {},
   "outputs": [
    {
     "ename": "TypeError",
     "evalue": "Unicode-objects must be encoded before hashing",
     "output_type": "error",
     "traceback": [
      "\u001b[0;31m---------------------------------------------------------------------------\u001b[0m",
      "\u001b[0;31mTypeError\u001b[0m                                 Traceback (most recent call last)",
      "\u001b[0;32m<ipython-input-3-f14fdbb296d0>\u001b[0m in \u001b[0;36m<module>\u001b[0;34m\u001b[0m\n\u001b[0;32m----> 1\u001b[0;31m \u001b[0mdata\u001b[0m \u001b[0;34m=\u001b[0m \u001b[0mapi\u001b[0m\u001b[0;34m.\u001b[0m\u001b[0mget\u001b[0m\u001b[0;34m(\u001b[0m\u001b[0mendpoint\u001b[0m\u001b[0;34m=\u001b[0m\u001b[0mENDPOINT\u001b[0m\u001b[0;34m,\u001b[0m \u001b[0mparameters\u001b[0m\u001b[0;34m=\u001b[0m\u001b[0mparameters\u001b[0m\u001b[0;34m,\u001b[0m \u001b[0mfollow\u001b[0m\u001b[0;34m=\u001b[0m\u001b[0;32mTrue\u001b[0m\u001b[0;34m)\u001b[0m\u001b[0;34m\u001b[0m\u001b[0m\n\u001b[0m\u001b[1;32m      2\u001b[0m \u001b[0mdf\u001b[0m \u001b[0;34m=\u001b[0m \u001b[0mpd\u001b[0m\u001b[0;34m.\u001b[0m\u001b[0mDataFrame\u001b[0m\u001b[0;34m(\u001b[0m\u001b[0mdata\u001b[0m\u001b[0;34m[\u001b[0m\u001b[0;36m0\u001b[0m\u001b[0;34m]\u001b[0m\u001b[0;34m[\u001b[0m\u001b[0mENDPOINT\u001b[0m\u001b[0;34m]\u001b[0m\u001b[0;34m)\u001b[0m\u001b[0;34m\u001b[0m\u001b[0m\n",
      "\u001b[0;32m~/workspace/private/boolipy/boolipy/api.py\u001b[0m in \u001b[0;36mget\u001b[0;34m(self, endpoint, parameters, responses_acc, auth, follow, cache)\u001b[0m\n\u001b[1;32m     45\u001b[0m             follow=False, cache=True):\n\u001b[1;32m     46\u001b[0m \u001b[0;34m\u001b[0m\u001b[0m\n\u001b[0;32m---> 47\u001b[0;31m         \u001b[0mhashstr\u001b[0m \u001b[0;34m=\u001b[0m \u001b[0mself\u001b[0m\u001b[0;34m.\u001b[0m\u001b[0m_hash_request\u001b[0m\u001b[0;34m(\u001b[0m\u001b[0mendpoint\u001b[0m\u001b[0;34m,\u001b[0m \u001b[0mparameters\u001b[0m\u001b[0;34m,\u001b[0m \u001b[0mfollow\u001b[0m\u001b[0;34m)\u001b[0m\u001b[0;34m\u001b[0m\u001b[0m\n\u001b[0m\u001b[1;32m     48\u001b[0m \u001b[0;34m\u001b[0m\u001b[0m\n\u001b[1;32m     49\u001b[0m         \u001b[0mfilename\u001b[0m \u001b[0;34m=\u001b[0m \u001b[0mos\u001b[0m\u001b[0;34m.\u001b[0m\u001b[0mpath\u001b[0m\u001b[0;34m.\u001b[0m\u001b[0mjoin\u001b[0m\u001b[0;34m(\u001b[0m\u001b[0;34m'data/'\u001b[0m\u001b[0;34m,\u001b[0m \u001b[0mhashstr\u001b[0m \u001b[0;34m+\u001b[0m \u001b[0;34m'.json'\u001b[0m\u001b[0;34m)\u001b[0m\u001b[0;34m\u001b[0m\u001b[0m\n",
      "\u001b[0;32m~/workspace/private/boolipy/boolipy/api.py\u001b[0m in \u001b[0;36m_hash_request\u001b[0;34m(self, endpoint, parameters, follow)\u001b[0m\n\u001b[1;32m    112\u001b[0m \u001b[0;34m\u001b[0m\u001b[0m\n\u001b[1;32m    113\u001b[0m     \u001b[0;32mdef\u001b[0m \u001b[0m_hash_request\u001b[0m\u001b[0;34m(\u001b[0m\u001b[0mself\u001b[0m\u001b[0;34m,\u001b[0m \u001b[0mendpoint\u001b[0m\u001b[0;34m,\u001b[0m \u001b[0mparameters\u001b[0m\u001b[0;34m,\u001b[0m \u001b[0mfollow\u001b[0m\u001b[0;34m)\u001b[0m\u001b[0;34m:\u001b[0m\u001b[0;34m\u001b[0m\u001b[0m\n\u001b[0;32m--> 114\u001b[0;31m         \u001b[0;32mreturn\u001b[0m \u001b[0msha1\u001b[0m\u001b[0;34m(\u001b[0m\u001b[0mendpoint\u001b[0m \u001b[0;34m+\u001b[0m \u001b[0mjson\u001b[0m\u001b[0;34m.\u001b[0m\u001b[0mdumps\u001b[0m\u001b[0;34m(\u001b[0m\u001b[0mparameters\u001b[0m\u001b[0;34m)\u001b[0m \u001b[0;34m+\u001b[0m \u001b[0mstr\u001b[0m\u001b[0;34m(\u001b[0m\u001b[0mfollow\u001b[0m\u001b[0;34m)\u001b[0m\u001b[0;34m)\u001b[0m\u001b[0;34m.\u001b[0m\u001b[0mhexdigest\u001b[0m\u001b[0;34m(\u001b[0m\u001b[0;34m)\u001b[0m\u001b[0;34m\u001b[0m\u001b[0m\n\u001b[0m\u001b[1;32m    115\u001b[0m \u001b[0;34m\u001b[0m\u001b[0m\n\u001b[1;32m    116\u001b[0m     \u001b[0;32mdef\u001b[0m \u001b[0m_store_cache\u001b[0m\u001b[0;34m(\u001b[0m\u001b[0mself\u001b[0m\u001b[0;34m,\u001b[0m \u001b[0mendpoint\u001b[0m\u001b[0;34m,\u001b[0m \u001b[0mparameters\u001b[0m\u001b[0;34m,\u001b[0m \u001b[0mfollow\u001b[0m\u001b[0;34m,\u001b[0m \u001b[0mresponses_acc\u001b[0m\u001b[0;34m)\u001b[0m\u001b[0;34m:\u001b[0m\u001b[0;34m\u001b[0m\u001b[0m\n",
      "\u001b[0;31mTypeError\u001b[0m: Unicode-objects must be encoded before hashing"
     ]
    }
   ],
   "source": [
    "data = api.get(endpoint=ENDPOINT, parameters=parameters, follow=True)\n",
    "df = pd.DataFrame(data[0][ENDPOINT])"
   ]
  },
  {
   "cell_type": "code",
   "execution_count": null,
   "metadata": {},
   "outputs": [],
   "source": [
    "from haversine import haversine, Unit\n",
    "\n",
    "# define how do we want to change the data\n",
    "def time_published(x): return x[\"soldDate\"]-x[\"published\"]\n",
    "def source_name(x): return x[\"source\"][\"name\"]\n",
    "def price_increased(x): return x[\"soldPrice\"] - x[\"listPrice\"]\n",
    "# convert location to tuple\n",
    "def location_tuple(x): \n",
    "    loc = x['location']['position']\n",
    "    return (loc['latitude'], loc['longitude'])\n",
    "def dist_center(x, center = CENTER): \n",
    "    cloc = center\n",
    "    if isinstance(center, str):\n",
    "        cloc = tuple([float(l) for l in center.split(',')])\n",
    "\n",
    "    # using default location\n",
    "    #loc = x['location']['position']\n",
    "    #c = (loc['latitude'], loc['longitude'])\n",
    "    \n",
    "    # using new loc_tuple\n",
    "    c = x['loc_tuple']\n",
    "\n",
    "    return haversine(c, cloc, unit=Unit.METERS)\n",
    "\n",
    "# test distance\n",
    "#d = {\"location\": {\"position\": {\"latitude\": 59.334438, \"longitude\": 18.029522}}}\n",
    "#center = CENTER\n",
    "#assert dist_center(d, center) == 0"
   ]
  },
  {
   "cell_type": "code",
   "execution_count": null,
   "metadata": {},
   "outputs": [],
   "source": [
    "# apply all transformations\n",
    "###########################\n",
    "# transform data\n",
    "df['loc_tuple'] = df.apply(location_tuple, axis=1)\n",
    "df['soldDate'] = pd.to_datetime(df['soldDate'], format=\"%Y-%m-%d\") \n",
    "df['published'] = pd.to_datetime(df['published']) \n",
    "\n",
    "\n",
    "# add new data\n",
    "df['time_published'] = df.apply(time_published, axis=1)\n",
    "df['source_name'] = df.apply(source_name, axis=1)\n",
    "df['price_increased'] = df.apply(price_increased, axis=1)"
   ]
  },
  {
   "cell_type": "markdown",
   "metadata": {},
   "source": [
    "# Plot apartments"
   ]
  },
  {
   "cell_type": "code",
   "execution_count": null,
   "metadata": {},
   "outputs": [],
   "source": [
    "import folium\n",
    "\n",
    "def get_popup_str(x): return 'size: {} </br> price: {} </br> date: {}'.format(x['livingArea'], x['soldPrice'], x['soldDate'])\n",
    "\n",
    "m = folium.Map(\n",
    "    location=FRIDHEMSPLAN,\n",
    "    zoom_start=15\n",
    ")\n",
    "\n",
    "# center marker\n",
    "folium.Marker(FRIDHEMSPLAN, popup='Center of the univers').add_to(m)\n",
    "\n",
    "# apartments found\n",
    "for index, row in df.iterrows():\n",
    "    folium.Marker(row['loc_tuple'], popup=get_popup_str(row)).add_to(m)\n",
    "\n",
    "m"
   ]
  },
  {
   "cell_type": "code",
   "execution_count": null,
   "metadata": {},
   "outputs": [],
   "source": []
  }
 ],
 "metadata": {
  "kernelspec": {
   "display_name": "Python 3",
   "language": "python",
   "name": "python3"
  },
  "language_info": {
   "codemirror_mode": {
    "name": "ipython",
    "version": 3
   },
   "file_extension": ".py",
   "mimetype": "text/x-python",
   "name": "python",
   "nbconvert_exporter": "python",
   "pygments_lexer": "ipython3",
   "version": "3.6.5"
  }
 },
 "nbformat": 4,
 "nbformat_minor": 2
}
